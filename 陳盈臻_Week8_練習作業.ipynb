{
  "nbformat": 4,
  "nbformat_minor": 0,
  "metadata": {
    "colab": {
      "name": "陳盈臻-Week8-練習作業.ipynb",
      "provenance": [],
      "collapsed_sections": [],
      "include_colab_link": true
    },
    "kernelspec": {
      "display_name": "Python 3",
      "language": "python",
      "name": "python3"
    },
    "language_info": {
      "codemirror_mode": {
        "name": "ipython",
        "version": 3
      },
      "file_extension": ".py",
      "mimetype": "text/x-python",
      "name": "python",
      "nbconvert_exporter": "python",
      "pygments_lexer": "ipython3",
      "version": "3.8.5"
    }
  },
  "cells": [
    {
      "cell_type": "markdown",
      "metadata": {
        "id": "view-in-github",
        "colab_type": "text"
      },
      "source": [
        "<a href=\"https://colab.research.google.com/github/A109010087/Computational-Thinking-and-Program-Design/blob/main/%E9%99%B3%E7%9B%88%E8%87%BB_Week8_%E7%B7%B4%E7%BF%92%E4%BD%9C%E6%A5%AD.ipynb\" target=\"_parent\"><img src=\"https://colab.research.google.com/assets/colab-badge.svg\" alt=\"Open In Colab\"/></a>"
      ]
    },
    {
      "cell_type": "markdown",
      "metadata": {
        "id": "lkFoQxRBsMuI"
      },
      "source": [
        "#### 範例練習4-4:  服裝訂購系統\n",
        "\n",
        "**假設上衣300元、褲子350元與背心400元，使用者可以自行輸入三種服裝的數量，請設計一個程式計算訂購服裝的總金額。\n",
        "\n"
      ]
    },
    {
      "cell_type": "code",
      "metadata": {
        "colab": {
          "base_uri": "https://localhost:8080/"
        },
        "id": "zW1qAFrOmTy3",
        "outputId": "0c912c1e-dff1-49b9-b70d-f54841777f30"
      },
      "source": [
        "cloth = int(input('請輸入上衣數量'))\n",
        "trousers = int(input('請輸入褲子數量'))\n",
        "vest = int(input('請輸入背心數量'))\n",
        "total = cloth*300 + trousers*350 + vest*400\n",
        "print('訂購服裝的總金額',total)\n"
      ],
      "execution_count": null,
      "outputs": [
        {
          "output_type": "stream",
          "text": [
            "請輸入上衣數量10\n",
            "請輸入褲子數量8\n",
            "請輸入背心數量5\n",
            "訂購服裝的總金額 7800\n"
          ],
          "name": "stdout"
        }
      ]
    },
    {
      "cell_type": "markdown",
      "metadata": {
        "id": "WvdEURRrsYLw"
      },
      "source": [
        "####  範例練習4-5: 賣場買飲料\n",
        "\n",
        "為了刺激銷售量，賣場通常買一打會比買一罐便宜，假設一罐賣20元，一打賣200元，請設計一個程式計算買幾罐需花多少錢，若不足一打就個別買。\n",
        "\n",
        "～預覽結果\n",
        "輸入購買飲料的罐數，如「30」，計算結果顯示在螢幕如下。\n",
        "請輸入購買飲料的罐數？30\n",
        "需花費 520"
      ]
    },
    {
      "cell_type": "code",
      "metadata": {
        "id": "_DeyTUdzstvF",
        "colab": {
          "base_uri": "https://localhost:8080/"
        },
        "outputId": "42a9e70a-27eb-4e8e-9cfc-5e576e4842c0"
      },
      "source": [
        "cans = int(input('請輸入飲料幾罐?'))\n",
        "total = (cans//12)*200 + (cans%12)*20\n",
        "print(\"需花費\",total)"
      ],
      "execution_count": null,
      "outputs": [
        {
          "output_type": "stream",
          "text": [
            "請輸入飲料幾罐?30\n",
            "需花費 520\n"
          ],
          "name": "stdout"
        }
      ]
    },
    {
      "cell_type": "markdown",
      "metadata": {
        "id": "qs84Al9TsFsO"
      },
      "source": [
        "#### 範例練習4-6：求三數總和與平均\n",
        "\n",
        "求第一次期中考、第二次期中考與期末考成績，成績皆為整數，請計算分數的加總與平均。\n",
        "～預覽結果\n",
        "第一次期中考輸入「75」，第二次期中考輸入「80」，期末考輸入「65」，計算結果顯示在螢幕。\n",
        "請輸入第一次期中考成績？75\n",
        "請輸入第二次期中考成績？80\n",
        "請輸入期末考成績？65\n",
        "總分為 220 平均為 73.33333333333333"
      ]
    },
    {
      "cell_type": "code",
      "metadata": {
        "colab": {
          "base_uri": "https://localhost:8080/"
        },
        "id": "VdyW5jhimfH3",
        "outputId": "03f6a0d8-b4b7-4097-9f34-0f4ca80c23d6"
      },
      "source": [
        "x,y,z = eval(input(\"Enter your score\"))\n",
        "\n",
        "Sum = x + y + z\n",
        "Average = Sum /3\n",
        "\n",
        "print(f\"Total score is {Sum} and average score is{Average}\")"
      ],
      "execution_count": null,
      "outputs": [
        {
          "output_type": "stream",
          "text": [
            "Enter your score88,77,66\n",
            "Total score is 231 and average score is77.0\n"
          ],
          "name": "stdout"
        }
      ]
    },
    {
      "cell_type": "markdown",
      "metadata": {
        "id": "w2UDuGbdr85i"
      },
      "source": [
        "隨堂練習： 請計算NBA 史上最偉大的中鋒之一，「柴油引擎」俠客歐尼爾（Shaquille O’Neal）巔峰時期的BMI。 當時他的身高(216cm)與體重(147kg)，而其所對應的身體質量指數公式為BMI ＝ 公斤 / 公尺平方。"
      ]
    },
    {
      "cell_type": "code",
      "metadata": {
        "id": "t6V8VDA9nE4_",
        "colab": {
          "base_uri": "https://localhost:8080/"
        },
        "outputId": "3c6ca71d-1d6e-4741-d3d4-6645977b9b8e"
      },
      "source": [
        "player_name = input(\"請輸入球員姓名\")\n",
        "player_height = input(\"請輸入球員身高(cm):\")\n",
        "player_weight = input(\"請輸入球員體重(kg):\")\n",
        "\n",
        "player_height = float(player_height)\n",
        "player_weight = float(player_weight)\n",
        "player_bmi = player_weight/(player_height*0.01)**2\n",
        "print('{}的身體質量指數為:{:.2f}'.format(player_name,player_bmi))\n",
        "print(player_name,'身體質量指數為',player_bmi)"
      ],
      "execution_count": null,
      "outputs": [
        {
          "output_type": "stream",
          "text": [
            "請輸入球員姓名Shaquille O’Neal\n",
            "請輸入球員身高(cm):216\n",
            "請輸入球員體重(kg):147\n",
            "Shaquille O’Neal的身體質量指數為:31.51\n",
            "Shaquille O’Neal 身體質量指數為 31.507201646090532\n"
          ],
          "name": "stdout"
        }
      ]
    },
    {
      "cell_type": "markdown",
      "metadata": {
        "id": "seX_CxApXcXu"
      },
      "source": [
        "電影資訊"
      ]
    },
    {
      "cell_type": "code",
      "metadata": {
        "colab": {
          "base_uri": "https://localhost:8080/"
        },
        "id": "FB_smYViXbnE",
        "outputId": "94b14588-b5e2-42b6-d5d8-18fd4ea4b57f"
      },
      "source": [
        "movie_title = \"Howl's Moving Castle\"\n",
        "release_year = \"2004\"\n",
        "movie_time = \"119分11秒\"\n",
        "movie_rating = \"8.2\"\n",
        "director = \" Hayao Miyazaki\"\n",
        "actors = \"Chieko Baishô, Takuya Kimura, Tatsuya Gashûin\"\n",
        "like = \"Yes, I like!\"\n",
        "box_office = \"Taiwan,9545萬\"\n",
        "\n",
        "print(movie_title)\n",
        "print(release_year)\n",
        "print(movie_time)\n",
        "print(movie_rating)\n",
        "print(director)\n",
        "print(actors)\n",
        "print(like)\n",
        "print(box_office)"
      ],
      "execution_count": null,
      "outputs": [
        {
          "output_type": "stream",
          "text": [
            "Howl's Moving Castle\n",
            "2004\n",
            "119分11秒\n",
            "8.2\n",
            " Hayao Miyazaki\n",
            "Chieko Baishô, Takuya Kimura, Tatsuya Gashûin\n",
            "Yes, I like!\n",
            "Taiwan,9545萬\n"
          ],
          "name": "stdout"
        }
      ]
    },
    {
      "cell_type": "code",
      "metadata": {
        "id": "YnkZPQzrbrmS"
      },
      "source": [
        "時間轉換"
      ],
      "execution_count": null,
      "outputs": []
    },
    {
      "cell_type": "code",
      "metadata": {
        "colab": {
          "base_uri": "https://localhost:8080/"
        },
        "id": "WSIxer4icnEA",
        "outputId": "d7ceb9c0-17dc-42f5-b77b-4cf5984c25ea"
      },
      "source": [
        "time = 123\n",
        "hours = time // 60\n",
        "minutes = time % 60\n",
        "print(time,\"is euqal to\",hours,\"Hours and\",minutes,\"Minute\" )\n"
      ],
      "execution_count": null,
      "outputs": [
        {
          "output_type": "stream",
          "text": [
            "123 is euqal to 2 Hours and 3 Minute\n"
          ],
          "name": "stdout"
        }
      ]
    },
    {
      "cell_type": "markdown",
      "metadata": {
        "id": "fwzCnQv1hrln"
      },
      "source": [
        "練習12：格式化輸出，明星檔案\n",
        "\n",
        "用Python語言編制一個明星檔案，帶你認識創造Python程式語言的大神！"
      ]
    },
    {
      "cell_type": "code",
      "metadata": {
        "id": "2zTXsqBJhvIN",
        "colab": {
          "base_uri": "https://localhost:8080/"
        },
        "outputId": "0b0c75c2-5c13-4691-e145-f0e62b905080"
      },
      "source": [
        "artist_name = \"Jeong Eun-ji\"\n",
        "height = \"162.7cm\"\n",
        "weight = \"48kg\"\n",
        "birthday = \"1993/8/18\"\n",
        "debut = \"2016/4/18\"\n",
        "album = \"Dream, Space, Hyehwa, Simple\"\n",
        "\n",
        "print(\"artist_name:\",artist_name)\n",
        "print(\"height:\",height)\n",
        "print(\"weight:\",weight)\n",
        "print(\"birthday:\",birthday)\n",
        "print(\"debut:\",debut)\n",
        "print('albums:',album)"
      ],
      "execution_count": 28,
      "outputs": [
        {
          "output_type": "stream",
          "text": [
            "artist_name: Jeong Eun-ji\n",
            "height: 162.7cm\n",
            "weight: 48kg\n",
            "birthday: 1993/8/18\n",
            "debut: 2016/4/18\n",
            "albums: Dream, Space, Hyehwa, Simple\n"
          ],
          "name": "stdout"
        }
      ]
    },
    {
      "cell_type": "markdown",
      "metadata": {
        "id": "bRwHo86XhinU"
      },
      "source": [
        "\n",
        "練習15：長跑健將\n",
        "\n",
        "梁小星很喜歡運動，每天都堅持跑步5公里，為此他還買了一個手環。觀看手環可以記錄步數、距離、速度、時間等數據。梁小星想用Python寫一個統計時間的程式，你可以幫幫他嗎？(06'32, 07'21, 05,51, 07'03, 05'48)\n"
      ]
    },
    {
      "cell_type": "code",
      "metadata": {
        "colab": {
          "base_uri": "https://localhost:8080/"
        },
        "id": "qBgev6QAheun",
        "outputId": "73096333-23dc-4dfd-a60c-d1807b536c81"
      },
      "source": [
        "day1 = 6*60+32\n",
        "day2 = 7*60+21 \n",
        "day3 = 5*60+51\n",
        "day4 = 7*60+3\n",
        "day5 = 5*60+48\n",
        "\n",
        "seconds = (day1+day2+day3+day4+day5)\n",
        "print(seconds // 60,\"分鐘\",seconds % 60,\"秒\")"
      ],
      "execution_count": null,
      "outputs": [
        {
          "output_type": "stream",
          "text": [
            "32 分鐘 35 秒\n"
          ],
          "name": "stdout"
        }
      ]
    }
  ]
}