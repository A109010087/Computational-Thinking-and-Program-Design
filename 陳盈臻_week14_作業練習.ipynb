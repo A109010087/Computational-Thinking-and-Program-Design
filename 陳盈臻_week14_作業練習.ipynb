{
  "nbformat": 4,
  "nbformat_minor": 0,
  "metadata": {
    "colab": {
      "name": "陳盈臻-week14-作業練習.ipynb",
      "provenance": [],
      "authorship_tag": "ABX9TyPRWRRojZJ1IlLDRE/vss12",
      "include_colab_link": true
    },
    "kernelspec": {
      "name": "python3",
      "display_name": "Python 3"
    },
    "language_info": {
      "name": "python"
    }
  },
  "cells": [
    {
      "cell_type": "markdown",
      "metadata": {
        "id": "view-in-github",
        "colab_type": "text"
      },
      "source": [
        "<a href=\"https://colab.research.google.com/github/A109010087/Computational-Thinking-and-Program-Design/blob/main/%E9%99%B3%E7%9B%88%E8%87%BB_week14_%E4%BD%9C%E6%A5%AD%E7%B7%B4%E7%BF%92.ipynb\" target=\"_parent\"><img src=\"https://colab.research.google.com/assets/colab-badge.svg\" alt=\"Open In Colab\"/></a>"
      ]
    },
    {
      "cell_type": "code",
      "metadata": {
        "colab": {
          "base_uri": "https://localhost:8080/"
        },
        "id": "U-yOPnHgNVwq",
        "outputId": "9df967dc-e9e4-4fb5-b4d8-9063554f28f9"
      },
      "source": [
        "mine =int(input(\"請出拳 蟲=[0] 雞=[1] 老虎=[2] 棒子=[3] \"))\n",
        "print(\"我出的拳:\",mine)\n",
        "import random\n",
        "computer_choice = random.randint(0,3)\n",
        "print(\"電腦出拳為:\",computer_choice)\n",
        "\n",
        "if mine ==(computer_choice + 1) % 4:\n",
        "    print(\"我贏了\")\n",
        "elif computer_choice ==(mine+1) % 4:\n",
        "    print(\"電腦贏了\")\n",
        "else:\n",
        "    print(\"平手\")"
      ],
      "execution_count": 8,
      "outputs": [
        {
          "output_type": "stream",
          "text": [
            "請出拳 蟲=[0] 雞=[1] 老虎=[2] 棒子=[3] 0\n",
            "我出的拳: 0\n",
            "電腦出拳為: 1\n",
            "電腦贏了\n"
          ],
          "name": "stdout"
        }
      ]
    }
  ]
}