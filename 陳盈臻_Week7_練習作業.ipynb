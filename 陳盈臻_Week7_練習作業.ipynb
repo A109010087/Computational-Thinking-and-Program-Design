{
  "nbformat": 4,
  "nbformat_minor": 0,
  "metadata": {
    "colab": {
      "name": "陳盈臻-Week7-練習作業.ipynb",
      "provenance": [],
      "collapsed_sections": [],
      "include_colab_link": true
    },
    "kernelspec": {
      "display_name": "Python 3",
      "language": "python",
      "name": "python3"
    },
    "language_info": {
      "codemirror_mode": {
        "name": "ipython",
        "version": 3
      },
      "file_extension": ".py",
      "mimetype": "text/x-python",
      "name": "python",
      "nbconvert_exporter": "python",
      "pygments_lexer": "ipython3",
      "version": "3.8.5"
    }
  },
  "cells": [
    {
      "cell_type": "markdown",
      "metadata": {
        "id": "view-in-github",
        "colab_type": "text"
      },
      "source": [
        "<a href=\"https://colab.research.google.com/github/A109010087/Computational-Thinking-and-Program-Design/blob/main/%E9%99%B3%E7%9B%88%E8%87%BB_Week7_%E7%B7%B4%E7%BF%92%E4%BD%9C%E6%A5%AD.ipynb\" target=\"_parent\"><img src=\"https://colab.research.google.com/assets/colab-badge.svg\" alt=\"Open In Colab\"/></a>"
      ]
    },
    {
      "cell_type": "markdown",
      "metadata": {
        "id": "x0FYSbhHmo0F"
      },
      "source": [
        "**隨堂練習:**\n",
        "1.求圓環的面積 2.英制轉公制"
      ]
    },
    {
      "cell_type": "code",
      "metadata": {
        "id": "naaK9VUombFT",
        "colab": {
          "base_uri": "https://localhost:8080/"
        },
        "outputId": "9733f53e-ddd9-479b-c2e5-c3b9ef0de5c7"
      },
      "source": [
        "PI = 3.14\n",
        "r1 = input(\"Enter radius 1:\")\n",
        "r2 = input(\"Enter radius 2:\")\n",
        "r1 = float(r1)\n",
        "r2 = float(r2)\n",
        "\n",
        "area1 = PI * r1 * r1\n",
        "area2 = PI * r2 * r2\n",
        "area = area1 - area2\n",
        "\n",
        "print(f\"{area}\")"
      ],
      "execution_count": 2,
      "outputs": [
        {
          "output_type": "stream",
          "text": [
            "Enter radius 1:8\n",
            "Enter radius 2:6\n",
            "87.92000000000002\n"
          ],
          "name": "stdout"
        }
      ]
    },
    {
      "cell_type": "code",
      "metadata": {
        "id": "ErCNGXR2nATr",
        "colab": {
          "base_uri": "https://localhost:8080/"
        },
        "outputId": "75ad215d-64d5-4270-eb3d-249482f48ae8"
      },
      "source": [
        "f = int(input('請輸入幾尺'))\n",
        "i = int(input('請輸入幾吋'))\n",
        "ans = (f*12+i)*2.54\n",
        "print(\"轉換成\",ans,'公分')"
      ],
      "execution_count": 3,
      "outputs": [
        {
          "output_type": "stream",
          "text": [
            "請輸入幾尺5\n",
            "請輸入幾吋8\n",
            "轉換成 172.72 公分\n"
          ],
          "name": "stdout"
        }
      ]
    },
    {
      "cell_type": "markdown",
      "metadata": {
        "id": "hPjDONW5tHxT"
      },
      "source": [
        "**課後習題:**\n",
        "1.練習5: 整理圖書  2. 練習11: 分糖果遊戲"
      ]
    },
    {
      "cell_type": "code",
      "metadata": {
        "colab": {
          "base_uri": "https://localhost:8080/"
        },
        "id": "MgXUB0_etPxU",
        "outputId": "b91de69a-2564-41b7-bd63-6e0a9a443bb7"
      },
      "source": [
        "a = 13\n",
        "b = 11\n",
        "c = a \n",
        "a = b\n",
        "b = c\n",
        "print(a,b)"
      ],
      "execution_count": null,
      "outputs": [
        {
          "output_type": "stream",
          "text": [
            "11 13\n"
          ],
          "name": "stdout"
        }
      ]
    },
    {
      "cell_type": "code",
      "metadata": {
        "id": "lkfMpwj2bwj0"
      },
      "source": [
        "可是沒有糖果數量的話可以分嗎?"
      ],
      "execution_count": null,
      "outputs": []
    },
    {
      "cell_type": "code",
      "metadata": {
        "id": "Iv0zy3pwmaLY",
        "colab": {
          "base_uri": "https://localhost:8080/"
        },
        "outputId": "c52e4f74-41da-4809-9279-43cc877c04ce"
      },
      "source": [
        "name = input('請問貴姓⼤名？')\n",
        "print('你好,',name)\n",
        "\n",
        "age = int(input('請問年紀？'))\n",
        "print('原來你',age,'歲')\n",
        "\n",
        "weight = eval(input('請問體重'))\n",
        "print('體重為',weight)\n"
      ],
      "execution_count": 5,
      "outputs": [
        {
          "output_type": "stream",
          "text": [
            "請問貴姓⼤名？麵包超人\n",
            "你好, 麵包超人\n",
            "請問年紀？19\n",
            "原來你 19 歲\n",
            "請問體重52\n",
            "體重為 52\n"
          ],
          "name": "stdout"
        }
      ]
    },
    {
      "cell_type": "code",
      "metadata": {
        "id": "4aQV0HDlmePN",
        "colab": {
          "base_uri": "https://localhost:8080/"
        },
        "outputId": "8279b6cf-0d05-4384-d90d-c3c0b61eabe1"
      },
      "source": [
        "c = float(input('請輸入攝氏溫度'))\n",
        "f = c * 9/5 + 32\n",
        "print('華氏溫度為',f)"
      ],
      "execution_count": 6,
      "outputs": [
        {
          "output_type": "stream",
          "text": [
            "請輸入攝氏溫度32\n",
            "華氏溫度為 89.6\n"
          ],
          "name": "stdout"
        }
      ]
    }
  ]
}