{
  "nbformat": 4,
  "nbformat_minor": 0,
  "metadata": {
    "kernelspec": {
      "display_name": "Python 3",
      "language": "python",
      "name": "python3"
    },
    "language_info": {
      "codemirror_mode": {
        "name": "ipython",
        "version": 3
      },
      "file_extension": ".py",
      "mimetype": "text/x-python",
      "name": "python",
      "nbconvert_exporter": "python",
      "pygments_lexer": "ipython3",
      "version": "3.8.5"
    },
    "colab": {
      "name": "陳盈臻-Week13-作業練習.ipynb",
      "provenance": [],
      "collapsed_sections": [],
      "include_colab_link": true
    }
  },
  "cells": [
    {
      "cell_type": "markdown",
      "metadata": {
        "id": "view-in-github",
        "colab_type": "text"
      },
      "source": [
        "<a href=\"https://colab.research.google.com/github/A109010087/Computational-Thinking-and-Program-Design/blob/main/%E9%99%B3%E7%9B%88%E8%87%BB_Week13_%E4%BD%9C%E6%A5%AD%E7%B7%B4%E7%BF%92.ipynb\" target=\"_parent\"><img src=\"https://colab.research.google.com/assets/colab-badge.svg\" alt=\"Open In Colab\"/></a>"
      ]
    },
    {
      "cell_type": "markdown",
      "metadata": {
        "id": "ofj0HmnonptN"
      },
      "source": [
        "**隨堂練習1： BMI 計算**\n",
        "\n",
        "請寫一個程式讓使用者輸入身高與體重，顯示BMI 值與肥胖程度。 BMI 等於體重（KG）除以身高（M）的平方，而BMI 與肥胖分類標準如下：\n",
        "\n",
        "若BMI 值小於18，則顯示「體重過輕」，否則若BMI 值小於24，則顯示「體重正常」，若BMI 值小於27，則顯示「體重過重」，否則顯示「體重肥胖」。"
      ]
    },
    {
      "cell_type": "code",
      "metadata": {
        "id": "L65ySO4-nptQ",
        "colab": {
          "base_uri": "https://localhost:8080/"
        },
        "outputId": "585d1025-bd37-474c-f833-4c2b7d8b433e"
      },
      "source": [
        "height = float(input(\"請輸入身高幾M\"))\n",
        "weight = float(input(\"請輸入體重幾KG?\"))\n",
        "BMI = weight//(height**2)\n",
        "print(f\"{BMI},這是你的BMI\")\n",
        "if BMI < 18:\n",
        "    print(\"體重過輕\")\n",
        "elif BMI < 24:\n",
        "    print(\"體重正常\")\n",
        "elif BMI < 27:\n",
        "    print(\"體重過重\")\n",
        "else:\n",
        "    print(\"體重肥胖\")\n"
      ],
      "execution_count": null,
      "outputs": [
        {
          "output_type": "stream",
          "text": [
            "請輸入身高幾M1.59\n",
            "請輸入體重幾KG?52\n",
            "20.0,這是你的BMI\n",
            "體重正常\n"
          ],
          "name": "stdout"
        }
      ]
    },
    {
      "cell_type": "markdown",
      "metadata": {
        "id": "89nSWigenptQ"
      },
      "source": [
        "**隨堂練習2： 三一律(單向選擇、雙向與巢狀選擇、多向選擇)**\n",
        "\n",
        "請輸入一個數，然後判斷這個數是正數、是負數或者是零。"
      ]
    },
    {
      "cell_type": "code",
      "metadata": {
        "id": "sZpR2oyBnptR",
        "colab": {
          "base_uri": "https://localhost:8080/"
        },
        "outputId": "64353bad-e86d-44c1-8cc0-a3791f87a328"
      },
      "source": [
        "num = int(input(\"請輸入一個數\"))\n",
        "if num > 0:\n",
        "    print(\"正數\")\n",
        "if num < 0:\n",
        "    print(\"負數\")\n",
        "if num == 0:\n",
        "    print(\"零\")"
      ],
      "execution_count": null,
      "outputs": [
        {
          "output_type": "stream",
          "text": [
            "請輸入一個數0\n",
            "零\n"
          ],
          "name": "stdout"
        }
      ]
    },
    {
      "cell_type": "markdown",
      "metadata": {
        "id": "-N0FRYTV2o_E"
      },
      "source": [
        "雙向與巢狀選擇 ???"
      ]
    },
    {
      "cell_type": "code",
      "metadata": {
        "colab": {
          "base_uri": "https://localhost:8080/"
        },
        "id": "zEwMOOoh0y29",
        "outputId": "8006881a-6548-4364-ab7a-31498e405ea3"
      },
      "source": [
        "num = int(input(\"請輸入一個數\"))\n",
        "if num > 0:\n",
        "    print(\"正數\")\n",
        "else:\n",
        "    print(\"負數或是零\")"
      ],
      "execution_count": null,
      "outputs": [
        {
          "output_type": "stream",
          "text": [
            "請輸入一個數-2\n",
            "負數或是零\n"
          ],
          "name": "stdout"
        }
      ]
    },
    {
      "cell_type": "code",
      "metadata": {
        "colab": {
          "base_uri": "https://localhost:8080/"
        },
        "id": "shzm9Zf02tIu",
        "outputId": "46e4e0e3-33dd-4ebe-ed9f-0c5ebccf3290"
      },
      "source": [
        "num = int(input(\"請輸入一個數\"))\n",
        "if num > 0:\n",
        "    print(\"正數\")\n",
        "elif num < 0:\n",
        "    print(\"負數\")\n",
        "else:\n",
        "    print(\"零\")"
      ],
      "execution_count": null,
      "outputs": [
        {
          "output_type": "stream",
          "text": [
            "請輸入一個數-8\n",
            "負數\n"
          ],
          "name": "stdout"
        }
      ]
    },
    {
      "cell_type": "markdown",
      "metadata": {
        "id": "NOsrJ7OwnptR"
      },
      "source": [
        "**練習5   體溫與發燒**\n",
        "\n",
        "設計程式根據體溫判斷是否發燒，由使用者輸入體溫，程式判斷是否發燒，假設體溫小於36度，顯示「體溫過低」，體溫大於等於36度小於38度，顯示「體溫正常」，否則若體溫大於等於38度小於39度，顯示「體溫有點燒」，否則體溫大於等於39度，顯示「體溫很燒」。\n",
        "\n",
        "輸入體溫「36.5」，輸出為「體溫正常」。\n",
        "\n",
        "～程式執行結果如下。\n",
        "\n",
        "請輸入體溫？36.5\n",
        "\n",
        "體溫正常"
      ]
    },
    {
      "cell_type": "code",
      "metadata": {
        "id": "GQSpW9bEnptR",
        "colab": {
          "base_uri": "https://localhost:8080/"
        },
        "outputId": "41cb3f53-4b7b-4f94-dcf0-3dc50e07e614"
      },
      "source": [
        "tp = float(input(\"請輸入體溫\"))\n",
        "if tp < 36:\n",
        "    print(\"體溫過低\")\n",
        "elif tp >= 36 and tp <38: \n",
        "    print(\"體溫正常\")\n",
        "elif tp >= 38 and tp <39:\n",
        "    print(\"體溫有點燒\") \n",
        "elif tp >= 39:\n",
        "    print(\"體溫很燒\")"
      ],
      "execution_count": 4,
      "outputs": [
        {
          "output_type": "stream",
          "text": [
            "請輸入體溫36.5\n",
            "體溫正常\n"
          ],
          "name": "stdout"
        }
      ]
    },
    {
      "cell_type": "markdown",
      "metadata": {
        "id": "Y7NmtenrnptS"
      },
      "source": [
        "**練習6  閏年判斷**\n",
        "\n",
        "設計程式允許輸入西元幾年，請求出該年是否是閏年，閏年表示該年多一天，若為4的倍數稱做閏年，但若為100的倍數就不為閏年，且若為400倍數又是閏年。(四年一潤、百年不潤、四百年再潤)\n",
        "\n",
        "輸入年份「2012」，輸出為「2012是閏年」。\n",
        "\n",
        "～程式執行結果如下。\n",
        "\n",
        "請輸入年份？2012\n",
        "\n",
        "2012 是閏年"
      ]
    },
    {
      "cell_type": "code",
      "metadata": {
        "colab": {
          "base_uri": "https://localhost:8080/"
        },
        "id": "VfakCATDHgYS",
        "outputId": "1622b792-89f9-4765-dd6d-83d99dc8e3bd"
      },
      "source": [
        "year = int(input(\"輸入年分\"))\n",
        "if year % 400 == 0:\n",
        "    print(f\"{year}是閏年\")\n",
        "elif year % 100 == 0:\n",
        "    print(f\"不是閏年\") \n",
        "elif year % 4 == 0:\n",
        "    print(f\"{year}是閏年\")\n",
        "else:\n",
        "     print(\"不是閏年\")"
      ],
      "execution_count": 36,
      "outputs": [
        {
          "output_type": "stream",
          "text": [
            "輸入年分2012\n",
            "2012是閏年\n"
          ],
          "name": "stdout"
        }
      ]
    },
    {
      "cell_type": "markdown",
      "metadata": {
        "id": "0cMvKH5PnptS"
      },
      "source": [
        "**練習12：計程車計費**\n",
        "\n",
        "某城市計程車計費3公里以內6元，超過3公里不足10公里、每公里1.8元，超過10公里則超過部分加收50%。此外停車等候每3分鐘收1元，請用Python寫出車費是多少。"
      ]
    },
    {
      "cell_type": "code",
      "metadata": {
        "id": "Y4q2BFIDnptT",
        "colab": {
          "base_uri": "https://localhost:8080/"
        },
        "outputId": "f0a6e597-2ecb-4b05-d514-a174192838a1"
      },
      "source": [
        "km = int(input(\"請輸入幾公里\"))\n",
        "if km < 3:\n",
        "    print(\"6元\")\n",
        "elif km > 3 and km < 10:\n",
        "    print(km*1.8)\n",
        "elif km > 10:\n",
        "    print(km+(km-10)*0.5)\n",
        "print(\"停車等候每3分鐘收1元\")"
      ],
      "execution_count": 8,
      "outputs": [
        {
          "output_type": "stream",
          "text": [
            "請輸入幾公里19\n",
            "23.5\n",
            "停車等候每3分鐘收1元\n"
          ],
          "name": "stdout"
        }
      ]
    },
    {
      "cell_type": "code",
      "metadata": {
        "id": "D0jk2tMgnptT"
      },
      "source": [
        ""
      ],
      "execution_count": null,
      "outputs": []
    }
  ]
}