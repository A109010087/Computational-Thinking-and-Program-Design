{
  "nbformat": 4,
  "nbformat_minor": 0,
  "metadata": {
    "colab": {
      "name": "陳盈臻-Week9-練習作業.ipynb",
      "provenance": [],
      "collapsed_sections": [],
      "include_colab_link": true
    },
    "kernelspec": {
      "display_name": "Python 3",
      "language": "python",
      "name": "python3"
    },
    "language_info": {
      "codemirror_mode": {
        "name": "ipython",
        "version": 3
      },
      "file_extension": ".py",
      "mimetype": "text/x-python",
      "name": "python",
      "nbconvert_exporter": "python",
      "pygments_lexer": "ipython3",
      "version": "3.8.5"
    }
  },
  "cells": [
    {
      "cell_type": "markdown",
      "metadata": {
        "id": "view-in-github",
        "colab_type": "text"
      },
      "source": [
        "<a href=\"https://colab.research.google.com/github/A109010087/Computational-Thinking-and-Program-Design/blob/main/%E9%99%B3%E7%9B%88%E8%87%BB_Week9_%E7%B7%B4%E7%BF%92%E4%BD%9C%E6%A5%AD.ipynb\" target=\"_parent\"><img src=\"https://colab.research.google.com/assets/colab-badge.svg\" alt=\"Open In Colab\"/></a>"
      ]
    },
    {
      "cell_type": "markdown",
      "metadata": {
        "id": "mE6Q9A41VTTR"
      },
      "source": [
        "**分組報告**"
      ]
    },
    {
      "cell_type": "code",
      "metadata": {
        "colab": {
          "base_uri": "https://localhost:8080/"
        },
        "id": "cNUCrvWUbP7Z",
        "outputId": "02b3f8f8-3fa2-43b4-a95c-79144b47dd69"
      },
      "source": [
        "seats = int(input(\"請輸入座號?\"))\n",
        "if seats%5==0:  print(\"組別為\",seats//5)\n",
        "else:       print(\"組別為\",seats//5+1)"
      ],
      "execution_count": 8,
      "outputs": [
        {
          "output_type": "stream",
          "text": [
            "請輸入座號?19\n",
            "組別為 4\n"
          ],
          "name": "stdout"
        }
      ]
    },
    {
      "cell_type": "code",
      "metadata": {
        "colab": {
          "base_uri": "https://localhost:8080/"
        },
        "id": "vBaOGGkoq93f",
        "outputId": "e858c999-9e06-4b05-c2f5-80f063ca2d28"
      },
      "source": [
        "seats = int(input(\"請輸入座號?\"))\n",
        "groups = (seats-1)//5+1\n",
        "print(\"組別為\",groups)"
      ],
      "execution_count": 10,
      "outputs": [
        {
          "output_type": "stream",
          "text": [
            "請輸入座號?19\n",
            "組別為 4\n"
          ],
          "name": "stdout"
        }
      ]
    },
    {
      "cell_type": "markdown",
      "metadata": {
        "id": "6BISjhc6tRjc"
      },
      "source": [
        "練習17: 農夫的難題\n",
        "\n",
        "一位農夫帶著一條狼，一隻羊和一籃蔬菜過河但只有一條小船，並且每次只能讓農夫帶一樣東西過河。農夫在場的情況下一切相安無事，一旦農夫不在，狼會吃羊，洋會吃蔬菜。你幫助農夫解決過河的難題嗎？"
      ]
    },
    {
      "cell_type": "markdown",
      "metadata": {
        "id": "c5TdKjuftpaP"
      },
      "source": [
        "St1:先帶羊過河\n",
        "\n",
        "St2:再帶狼過河同時把羊帶回來==>剩下狼而已\n",
        "\n",
        "St3:帶菜過河==>河邊有狼跟菜\n",
        "\n",
        "St4:羊過河==>都到了"
      ]
    }
  ]
}