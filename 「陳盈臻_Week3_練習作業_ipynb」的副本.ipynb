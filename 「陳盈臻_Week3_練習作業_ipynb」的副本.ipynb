{
  "nbformat": 4,
  "nbformat_minor": 0,
  "metadata": {
    "colab": {
      "name": "「陳盈臻-Week3-練習作業.ipynb」的副本",
      "provenance": [],
      "collapsed_sections": [],
      "authorship_tag": "ABX9TyOFM7SViVU9dpigSR45Urym",
      "include_colab_link": true
    },
    "kernelspec": {
      "name": "python3",
      "display_name": "Python 3"
    }
  },
  "cells": [
    {
      "cell_type": "markdown",
      "metadata": {
        "id": "view-in-github",
        "colab_type": "text"
      },
      "source": [
        "<a href=\"https://colab.research.google.com/github/A109010087/Computational-Thinking-and-Program-Design/blob/main/%E3%80%8C%E9%99%B3%E7%9B%88%E8%87%BB_Week3_%E7%B7%B4%E7%BF%92%E4%BD%9C%E6%A5%AD_ipynb%E3%80%8D%E7%9A%84%E5%89%AF%E6%9C%AC.ipynb\" target=\"_parent\"><img src=\"https://colab.research.google.com/assets/colab-badge.svg\" alt=\"Open In Colab\"/></a>"
      ]
    },
    {
      "cell_type": "markdown",
      "metadata": {
        "id": "2f2JOGbwNq21"
      },
      "source": [
        "#隨堂練習\r\n"
      ]
    },
    {
      "cell_type": "markdown",
      "metadata": {
        "id": "QLkJyOGmOFga"
      },
      "source": [
        "#認識電腦"
      ]
    },
    {
      "cell_type": "markdown",
      "metadata": {
        "id": "xxHtViimQSZo"
      },
      "source": [
        "電腦軟硬體都是以input process(處理和記憶) output為架構\r\n"
      ]
    },
    {
      "cell_type": "markdown",
      "metadata": {
        "id": "32N2FJocWZAF"
      },
      "source": [
        "中央處理器CPU 浮點運算器FPU(處理小數點的部分) GPU圖形處理器(人工智慧的發展需要)"
      ]
    },
    {
      "cell_type": "markdown",
      "metadata": {
        "id": "Mwhs_VSDUeuu"
      },
      "source": [
        "電腦說的話:二進位語言:0和1"
      ]
    },
    {
      "cell_type": "markdown",
      "metadata": {
        "id": "p0BFTnVwWc8l"
      },
      "source": [
        "程式語言:人和電腦溝通的媒介 一種意思一種解讀 限制多種說法 人和電腦的翻譯官分為直譯:Python 邊譯:C\r\n"
      ]
    },
    {
      "cell_type": "markdown",
      "metadata": {
        "id": "KWmmEJFqVlbW"
      },
      "source": [
        "運算思維:透過思考找到答案的過程 是一種解決問題的方法\r\n",
        "\r\n",
        "問題拆解 模式辨識 抽象化 演算法"
      ]
    },
    {
      "cell_type": "markdown",
      "metadata": {
        "id": "KvoHZQO9ZSyH"
      },
      "source": [
        "演算法是解決問題的具體步驟與流程:分成一小步驟一小步驟 讓電腦逐步完成"
      ]
    },
    {
      "cell_type": "markdown",
      "metadata": {
        "id": "MEwm1LowalYN"
      },
      "source": [
        "用電腦解決問題的四步驟:\r\n",
        "1.運算思維\r\n",
        "2.程式設計\r\n",
        "3.程式編碼\r\n",
        "4.測試除錯\r\n",
        "這堂課的核心!!!"
      ]
    },
    {
      "cell_type": "markdown",
      "metadata": {
        "id": "BNcJcYblbjBt"
      },
      "source": [
        "定義問題 找到真正的問題點 並確定是有商業價值的問題 找出值得企業花時間與金錢解決問題的方法 就是運算思維\r\n",
        "\r\n",
        "再想想這個問題能不能⽤電腦處理 在電腦軟硬體運作下 如何利⽤電腦有效率地對資料進⾏運算處理 就是程式設計\r\n"
      ]
    },
    {
      "cell_type": "markdown",
      "metadata": {
        "id": "0tsIw1y-OZad"
      },
      "source": [
        "#課後練習"
      ]
    },
    {
      "cell_type": "markdown",
      "metadata": {
        "id": "bU9Mdkl3OpP0"
      },
      "source": [
        "**從一則新聞報導，提出你對新聞系（OO系）學生為什麼要學「運算思維與程式設計」的見解。（告訴我新聞連結，以及你的觀點即可。）**\r\n",
        "\r\n",
        "\r\n"
      ]
    },
    {
      "cell_type": "code",
      "metadata": {
        "id": "N8kxLMvmPMDq"
      },
      "source": [
        ""
      ],
      "execution_count": null,
      "outputs": []
    }
  ]
}